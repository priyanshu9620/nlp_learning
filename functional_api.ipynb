{
  "nbformat": 4,
  "nbformat_minor": 0,
  "metadata": {
    "colab": {
      "provenance": [],
      "include_colab_link": true
    },
    "kernelspec": {
      "name": "python3",
      "display_name": "Python 3"
    },
    "language_info": {
      "name": "python"
    }
  },
  "cells": [
    {
      "cell_type": "markdown",
      "metadata": {
        "id": "view-in-github",
        "colab_type": "text"
      },
      "source": [
        "<a href=\"https://colab.research.google.com/github/priyanshu9620/nlp_learning/blob/master/functional_api.ipynb\" target=\"_parent\"><img src=\"https://colab.research.google.com/assets/colab-badge.svg\" alt=\"Open In Colab\"/></a>"
      ]
    },
    {
      "cell_type": "code",
      "execution_count": 1,
      "metadata": {
        "id": "aJTERFqON3R9"
      },
      "outputs": [],
      "source": [
        "## sample code given by gpt for better understanding\n",
        "dont execute this\n",
        "\n",
        "from keras.layers import Input, Dense\n",
        "from keras.models import Model\n",
        "\n",
        "# Define the input layer\n",
        "input_layer = Input(shape=(100,))  # Assuming input shape is (batch_size, 100)\n",
        "\n",
        "# Add a hidden layer\n",
        "hidden_layer = Dense(64, activation='relu')(input_layer)\n",
        "\n",
        "# Add the output layer\n",
        "output_layer = Dense(10, activation='softmax')(hidden_layer)  # Assuming 10 output classes\n",
        "\n",
        "# Create the model by specifying input and output layers\n",
        "model = Model(inputs=input_layer, outputs=output_layer)\n",
        "\n",
        "# Compile the model\n",
        "model.compile(optimizer='adam', loss='categorical_crossentropy', metrics=['accuracy'])\n",
        "\n",
        "# Print model summary\n",
        "model.summary()\n"
      ]
    },
    {
      "cell_type": "code",
      "source": [
        "from keras.models import Model"
      ],
      "metadata": {
        "id": "Jcf4DGO0rdyH"
      },
      "execution_count": 17,
      "outputs": []
    },
    {
      "cell_type": "code",
      "source": [
        "from keras.layers import Input, Dense"
      ],
      "metadata": {
        "id": "5DYg2M33PYf8"
      },
      "execution_count": 18,
      "outputs": []
    },
    {
      "cell_type": "code",
      "source": [
        "x = Input(shape=(3,))"
      ],
      "metadata": {
        "id": "8EXWXRyUPdLH"
      },
      "execution_count": 19,
      "outputs": []
    },
    {
      "cell_type": "code",
      "source": [
        "hidden1 = Dense(128,activation='relu')(x)\n",
        "hidden2 = Dense(64,activation='relu')(hidden1)\n",
        "\n",
        "output1 = Dense(1,activation='linear')(hidden2)\n",
        "output2 = Dense(1,activation='sigmoid')(hidden2)"
      ],
      "metadata": {
        "id": "z4qOkDUWPlPn"
      },
      "execution_count": 20,
      "outputs": []
    },
    {
      "cell_type": "code",
      "source": [
        "model = Model(inputs = x ,outputs = [output1,output2])"
      ],
      "metadata": {
        "id": "r-8BlGcmq12I"
      },
      "execution_count": 21,
      "outputs": []
    },
    {
      "cell_type": "code",
      "source": [
        "model.summary()"
      ],
      "metadata": {
        "colab": {
          "base_uri": "https://localhost:8080/"
        },
        "id": "zyN3Iw1cQKrr",
        "outputId": "118e65d1-b004-48bc-9cfc-650cfb92dcf6"
      },
      "execution_count": 22,
      "outputs": [
        {
          "output_type": "stream",
          "name": "stdout",
          "text": [
            "Model: \"model_3\"\n",
            "__________________________________________________________________________________________________\n",
            " Layer (type)                Output Shape                 Param #   Connected to                  \n",
            "==================================================================================================\n",
            " input_3 (InputLayer)        [(None, 3)]                  0         []                            \n",
            "                                                                                                  \n",
            " dense_8 (Dense)             (None, 128)                  512       ['input_3[0][0]']             \n",
            "                                                                                                  \n",
            " dense_9 (Dense)             (None, 64)                   8256      ['dense_8[0][0]']             \n",
            "                                                                                                  \n",
            " dense_10 (Dense)            (None, 1)                    65        ['dense_9[0][0]']             \n",
            "                                                                                                  \n",
            " dense_11 (Dense)            (None, 1)                    65        ['dense_9[0][0]']             \n",
            "                                                                                                  \n",
            "==================================================================================================\n",
            "Total params: 8898 (34.76 KB)\n",
            "Trainable params: 8898 (34.76 KB)\n",
            "Non-trainable params: 0 (0.00 Byte)\n",
            "__________________________________________________________________________________________________\n"
          ]
        }
      ]
    },
    {
      "cell_type": "code",
      "source": [
        "from keras.utils import plot_model\n",
        "plot_model(model)"
      ],
      "metadata": {
        "colab": {
          "base_uri": "https://localhost:8080/",
          "height": 369
        },
        "id": "hdHSyCBoQMOn",
        "outputId": "a445f699-9db7-4dde-cffe-3520d0afd891"
      },
      "execution_count": 23,
      "outputs": [
        {
          "output_type": "execute_result",
          "data": {
            "image/png": "[encoded data removed]",
            "text/plain": [
              "<IPython.core.display.Image object>"
            ]
          },
          "metadata": {},
          "execution_count": 23
        }
      ]
    },
    {
      "cell_type": "markdown",
      "source": [
        "# MULTIPLE INPUT CASE\n"
      ],
      "metadata": {
        "id": "U_j_5bWfs7z9"
      }
    },
    {
      "cell_type": "code",
      "source": [
        "# define two sets of inputs\n",
        "inputA = Input(shape=(32,))\n",
        "inputB = Input(shape=(128,))\n",
        "\n",
        "# the first branch operates on the first input\n",
        "x = Dense(8, activation=\"relu\")(inputA)\n",
        "x1 = Dense(4, activation=\"relu\")(x)\n",
        "\n",
        "# the second branch opreates on the second input\n",
        "y = Dense(64, activation=\"relu\")(inputB)\n",
        "y1 = Dense(32, activation=\"relu\")(y)\n",
        "y2 = Dense(4, activation=\"relu\")(y1)\n",
        "\n",
        "# combine the output of the two branches\n",
        "combined = concatenate([x1, y2])\n",
        "\n",
        "# apply a FC layer and then a regression prediction on the\n",
        "# combined outputs\n",
        "z = Dense(2, activation=\"relu\")(combined)\n",
        "z1 = Dense(1, activation=\"linear\")(z)\n",
        "\n",
        "# our model will accept the inputs of the two branches and\n",
        "# then output a single value\n",
        "model = Model(inputs=[inputA, inputB], outputs=z1)"
      ],
      "metadata": {
        "id": "ipko7WIlrAjz"
      },
      "execution_count": 24,
      "outputs": []
    },
    {
      "cell_type": "code",
      "source": [
        "from keras.utils import plot_model\n",
        "plot_model(model)"
      ],
      "metadata": {
        "colab": {
          "base_uri": "https://localhost:8080/",
          "height": 661
        },
        "id": "IztUjQnvs4JJ",
        "outputId": "36f0eda9-9784-4359-e771-1f92962f726b"
      },
      "execution_count": 25,
      "outputs": [
        {
          "output_type": "execute_result",
          "data": {
            "image/png": "[encoded data removed]",
            "text/plain": [
              "<IPython.core.display.Image object>"
            ]
          },
          "metadata": {},
          "execution_count": 25
        }
      ]
    },
    {
      "cell_type": "code",
      "source": [],
      "metadata": {
        "id": "xi7cr_yfs6Ic"
      },
      "execution_count": null,
      "outputs": []
    }
  ]
}