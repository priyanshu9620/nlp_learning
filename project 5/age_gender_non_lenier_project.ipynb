{
  "nbformat": 4,
  "nbformat_minor": 0,
  "metadata": {
    "colab": {
      "provenance": [],
      "gpuType": "T4"
    },
    "kernelspec": {
      "name": "python3",
      "display_name": "Python 3"
    },
    "accelerator": "GPU"
  },
  "cells": [
    {
      "cell_type": "code",
      "metadata": {
        "id": "TJeZUnDmwran"
      },
      "source": [
        "# dataset: https://www.kaggle.com/datasets/jangedoo/utkface-new"
      ],
      "execution_count": 1,
      "outputs": []
    },
    {
      "cell_type": "code",
      "source": [
        "!mkdir -p ~/.kaggle\n",
        "!cp kaggle.json ~/.kaggle/"
      ],
      "metadata": {
        "id": "ulggEkh2KXII"
      },
      "execution_count": null,
      "outputs": []
    },
    {
      "cell_type": "code",
      "metadata": {
        "colab": {
          "base_uri": "https://localhost:8080/"
        },
        "id": "71CoXULRw73J",
        "outputId": "a615ef18-d7d4-4dcf-fca6-4b19f93b7f66"
      },
      "source": [
        "!kaggle datasets download -d jangedoo/utkface-new"
      ],
      "execution_count": 2,
      "outputs": [
        {
          "output_type": "stream",
          "name": "stdout",
          "text": [
            "Warning: Your Kaggle API key is readable by other users on this system! To fix this, you can run 'chmod 600 /root/.kaggle/kaggle.json'\n",
            "Downloading utkface-new.zip to /content\n",
            " 99% 327M/331M [00:08<00:00, 44.2MB/s]\n",
            "100% 331M/331M [00:08<00:00, 38.8MB/s]\n"
          ]
        }
      ]
    },
    {
      "cell_type": "code",
      "metadata": {
        "id": "Jt31O3rAw9zC"
      },
      "source": [
        "import zipfile\n",
        "zip = zipfile.ZipFile(\"/content/utkface-new.zip\",'r')\n",
        "zip.extractall(\"/content\")\n",
        "zip.close()"
      ],
      "execution_count": 3,
      "outputs": []
    },
    {
      "cell_type": "code",
      "metadata": {
        "id": "hvru26NgyeiX"
      },
      "source": [
        "import os\n",
        "import numpy as np\n",
        "import pandas as pd\n",
        "from keras.preprocessing.image import ImageDataGenerator"
      ],
      "execution_count": 4,
      "outputs": []
    },
    {
      "cell_type": "code",
      "metadata": {
        "id": "JLdaS9IGxI_u"
      },
      "source": [
        "folder_path = '/content/utkface_aligned_cropped/UTKFace'"
      ],
      "execution_count": 5,
      "outputs": []
    },
    {
      "cell_type": "code",
      "metadata": {
        "id": "2Beh_PHKxuxM"
      },
      "source": [
        "age=[]\n",
        "gender=[]\n",
        "img_path=[]\n",
        "for file in os.listdir(folder_path):\n",
        "  age.append(int(file.split('_')[0]))\n",
        "  gender.append(int(file.split('_')[1]))\n",
        "  img_path.append(file)"
      ],
      "execution_count": 6,
      "outputs": []
    },
    {
      "cell_type": "code",
      "metadata": {
        "colab": {
          "base_uri": "https://localhost:8080/"
        },
        "id": "HxvpfqJIybDe",
        "outputId": "87ea440e-1e90-48e1-acb3-3f31a13f7de8"
      },
      "source": [
        "len(age)"
      ],
      "execution_count": 7,
      "outputs": [
        {
          "output_type": "execute_result",
          "data": {
            "text/plain": [
              "23708"
            ]
          },
          "metadata": {},
          "execution_count": 7
        }
      ]
    },
    {
      "cell_type": "code",
      "metadata": {
        "id": "14vOWlBAy9PR"
      },
      "source": [
        "df = pd.DataFrame({'age':age,'gender':gender,'img':img_path})"
      ],
      "execution_count": 8,
      "outputs": []
    },
    {
      "cell_type": "code",
      "metadata": {
        "colab": {
          "base_uri": "https://localhost:8080/"
        },
        "id": "JjD4tctdzNBJ",
        "outputId": "8cbcf28e-b2f1-4a43-9c2f-f0b26c371c10"
      },
      "source": [
        "df.shape"
      ],
      "execution_count": 9,
      "outputs": [
        {
          "output_type": "execute_result",
          "data": {
            "text/plain": [
              "(23708, 3)"
            ]
          },
          "metadata": {},
          "execution_count": 9
        }
      ]
    },
    {
      "cell_type": "code",
      "metadata": {
        "colab": {
          "base_uri": "https://localhost:8080/",
          "height": 206
        },
        "id": "M3OkWHlMzOYB",
        "outputId": "c2cd639b-ec2d-43dc-b8f4-30c64420b92f"
      },
      "source": [
        "df.head()"
      ],
      "execution_count": 10,
      "outputs": [
        {
          "output_type": "execute_result",
          "data": {
            "text/plain": [
              "   age  gender                                    img\n",
              "0    1       0   1_0_2_20161219194800523.jpg.chip.jpg\n",
              "1   25       1  25_1_2_20170116175319780.jpg.chip.jpg\n",
              "2   27       1  27_1_2_20170116163552814.jpg.chip.jpg\n",
              "3   37       1  37_1_2_20170116184911351.jpg.chip.jpg\n",
              "4   29       1  29_1_0_20170104165932577.jpg.chip.jpg"
            ],
            "text/html": [
              "\n",
              "  <div id=\"df-bafac33c-58a9-4852-b456-72c95c0cba6f\" class=\"colab-df-container\">\n",
              "    <div>\n",
              "<style scoped>\n",
              "    .dataframe tbody tr th:only-of-type {\n",
              "        vertical-align: middle;\n",
              "    }\n",
              "\n",
              "    .dataframe tbody tr th {\n",
              "        vertical-align: top;\n",
              "    }\n",
              "\n",
              "    .dataframe thead th {\n",
              "        text-align: right;\n",
              "    }\n",
              "</style>\n",
              "<table border=\"1\" class=\"dataframe\">\n",
              "  <thead>\n",
              "    <tr style=\"text-align: right;\">\n",
              "      <th></th>\n",
              "      <th>age</th>\n",
              "      <th>gender</th>\n",
              "      <th>img</th>\n",
              "    </tr>\n",
              "  </thead>\n",
              "  <tbody>\n",
              "    <tr>\n",
              "      <th>0</th>\n",
              "      <td>1</td>\n",
              "      <td>0</td>\n",
              "      <td>1_0_2_20161219194800523.jpg.chip.jpg</td>\n",
              "    </tr>\n",
              "    <tr>\n",
              "      <th>1</th>\n",
              "      <td>25</td>\n",
              "      <td>1</td>\n",
              "      <td>25_1_2_20170116175319780.jpg.chip.jpg</td>\n",
              "    </tr>\n",
              "    <tr>\n",
              "      <th>2</th>\n",
              "      <td>27</td>\n",
              "      <td>1</td>\n",
              "      <td>27_1_2_20170116163552814.jpg.chip.jpg</td>\n",
              "    </tr>\n",
              "    <tr>\n",
              "      <th>3</th>\n",
              "      <td>37</td>\n",
              "      <td>1</td>\n",
              "      <td>37_1_2_20170116184911351.jpg.chip.jpg</td>\n",
              "    </tr>\n",
              "    <tr>\n",
              "      <th>4</th>\n",
              "      <td>29</td>\n",
              "      <td>1</td>\n",
              "      <td>29_1_0_20170104165932577.jpg.chip.jpg</td>\n",
              "    </tr>\n",
              "  </tbody>\n",
              "</table>\n",
              "</div>\n",
              "    <div class=\"colab-df-buttons\">\n",
              "\n",
              "  <div class=\"colab-df-container\">\n",
              "    <button class=\"colab-df-convert\" onclick=\"convertToInteractive('df-bafac33c-58a9-4852-b456-72c95c0cba6f')\"\n",
              "            title=\"Convert this dataframe to an interactive table.\"\n",
              "            style=\"display:none;\">\n",
              "\n",
              "  <svg xmlns=\"http://www.w3.org/2000/svg\" height=\"24px\" viewBox=\"0 -960 960 960\">\n",
              "    <path d=\"M120-120v-720h720v720H120Zm60-500h600v-160H180v160Zm220 220h160v-160H400v160Zm0 220h160v-160H400v160ZM180-400h160v-160H180v160Zm440 0h160v-160H620v160ZM180-180h160v-160H180v160Zm440 0h160v-160H620v160Z\"/>\n",
              "  </svg>\n",
              "    </button>\n",
              "\n",
              "  <style>\n",
              "    .colab-df-container {\n",
              "      display:flex;\n",
              "      gap: 12px;\n",
              "    }\n",
              "\n",
              "    .colab-df-convert {\n",
              "      background-color: #E8F0FE;\n",
              "      border: none;\n",
              "      border-radius: 50%;\n",
              "      cursor: pointer;\n",
              "      display: none;\n",
              "      fill: #1967D2;\n",
              "      height: 32px;\n",
              "      padding: 0 0 0 0;\n",
              "      width: 32px;\n",
              "    }\n",
              "\n",
              "    .colab-df-convert:hover {\n",
              "      background-color: #E2EBFA;\n",
              "      box-shadow: 0px 1px 2px rgba(60, 64, 67, 0.3), 0px 1px 3px 1px rgba(60, 64, 67, 0.15);\n",
              "      fill: #174EA6;\n",
              "    }\n",
              "\n",
              "    .colab-df-buttons div {\n",
              "      margin-bottom: 4px;\n",
              "    }\n",
              "\n",
              "    [theme=dark] .colab-df-convert {\n",
              "      background-color: #3B4455;\n",
              "      fill: #D2E3FC;\n",
              "    }\n",
              "\n",
              "    [theme=dark] .colab-df-convert:hover {\n",
              "      background-color: #434B5C;\n",
              "      box-shadow: 0px 1px 3px 1px rgba(0, 0, 0, 0.15);\n",
              "      filter: drop-shadow(0px 1px 2px rgba(0, 0, 0, 0.3));\n",
              "      fill: #FFFFFF;\n",
              "    }\n",
              "  </style>\n",
              "\n",
              "    <script>\n",
              "      const buttonEl =\n",
              "        document.querySelector('#df-bafac33c-58a9-4852-b456-72c95c0cba6f button.colab-df-convert');\n",
              "      buttonEl.style.display =\n",
              "        google.colab.kernel.accessAllowed ? 'block' : 'none';\n",
              "\n",
              "      async function convertToInteractive(key) {\n",
              "        const element = document.querySelector('#df-bafac33c-58a9-4852-b456-72c95c0cba6f');\n",
              "        const dataTable =\n",
              "          await google.colab.kernel.invokeFunction('convertToInteractive',\n",
              "                                                    [key], {});\n",
              "        if (!dataTable) return;\n",
              "\n",
              "        const docLinkHtml = 'Like what you see? Visit the ' +\n",
              "          '<a target=\"_blank\" href=https://colab.research.google.com/notebooks/data_table.ipynb>data table notebook</a>'\n",
              "          + ' to learn more about interactive tables.';\n",
              "        element.innerHTML = '';\n",
              "        dataTable['output_type'] = 'display_data';\n",
              "        await google.colab.output.renderOutput(dataTable, element);\n",
              "        const docLink = document.createElement('div');\n",
              "        docLink.innerHTML = docLinkHtml;\n",
              "        element.appendChild(docLink);\n",
              "      }\n",
              "    </script>\n",
              "  </div>\n",
              "\n",
              "\n",
              "<div id=\"df-c096c59f-b551-4e93-9329-7d3be56338c4\">\n",
              "  <button class=\"colab-df-quickchart\" onclick=\"quickchart('df-c096c59f-b551-4e93-9329-7d3be56338c4')\"\n",
              "            title=\"Suggest charts\"\n",
              "            style=\"display:none;\">\n",
              "\n",
              "<svg xmlns=\"http://www.w3.org/2000/svg\" height=\"24px\"viewBox=\"0 0 24 24\"\n",
              "     width=\"24px\">\n",
              "    <g>\n",
              "        <path d=\"M19 3H5c-1.1 0-2 .9-2 2v14c0 1.1.9 2 2 2h14c1.1 0 2-.9 2-2V5c0-1.1-.9-2-2-2zM9 17H7v-7h2v7zm4 0h-2V7h2v10zm4 0h-2v-4h2v4z\"/>\n",
              "    </g>\n",
              "</svg>\n",
              "  </button>\n",
              "\n",
              "<style>\n",
              "  .colab-df-quickchart {\n",
              "      --bg-color: #E8F0FE;\n",
              "      --fill-color: #1967D2;\n",
              "      --hover-bg-color: #E2EBFA;\n",
              "      --hover-fill-color: #174EA6;\n",
              "      --disabled-fill-color: #AAA;\n",
              "      --disabled-bg-color: #DDD;\n",
              "  }\n",
              "\n",
              "  [theme=dark] .colab-df-quickchart {\n",
              "      --bg-color: #3B4455;\n",
              "      --fill-color: #D2E3FC;\n",
              "      --hover-bg-color: #434B5C;\n",
              "      --hover-fill-color: #FFFFFF;\n",
              "      --disabled-bg-color: #3B4455;\n",
              "      --disabled-fill-color: #666;\n",
              "  }\n",
              "\n",
              "  .colab-df-quickchart {\n",
              "    background-color: var(--bg-color);\n",
              "    border: none;\n",
              "    border-radius: 50%;\n",
              "    cursor: pointer;\n",
              "    display: none;\n",
              "    fill: var(--fill-color);\n",
              "    height: 32px;\n",
              "    padding: 0;\n",
              "    width: 32px;\n",
              "  }\n",
              "\n",
              "  .colab-df-quickchart:hover {\n",
              "    background-color: var(--hover-bg-color);\n",
              "    box-shadow: 0 1px 2px rgba(60, 64, 67, 0.3), 0 1px 3px 1px rgba(60, 64, 67, 0.15);\n",
              "    fill: var(--button-hover-fill-color);\n",
              "  }\n",
              "\n",
              "  .colab-df-quickchart-complete:disabled,\n",
              "  .colab-df-quickchart-complete:disabled:hover {\n",
              "    background-color: var(--disabled-bg-color);\n",
              "    fill: var(--disabled-fill-color);\n",
              "    box-shadow: none;\n",
              "  }\n",
              "\n",
              "  .colab-df-spinner {\n",
              "    border: 2px solid var(--fill-color);\n",
              "    border-color: transparent;\n",
              "    border-bottom-color: var(--fill-color);\n",
              "    animation:\n",
              "      spin 1s steps(1) infinite;\n",
              "  }\n",
              "\n",
              "  @keyframes spin {\n",
              "    0% {\n",
              "      border-color: transparent;\n",
              "      border-bottom-color: var(--fill-color);\n",
              "      border-left-color: var(--fill-color);\n",
              "    }\n",
              "    20% {\n",
              "      border-color: transparent;\n",
              "      border-left-color: var(--fill-color);\n",
              "      border-top-color: var(--fill-color);\n",
              "    }\n",
              "    30% {\n",
              "      border-color: transparent;\n",
              "      border-left-color: var(--fill-color);\n",
              "      border-top-color: var(--fill-color);\n",
              "      border-right-color: var(--fill-color);\n",
              "    }\n",
              "    40% {\n",
              "      border-color: transparent;\n",
              "      border-right-color: var(--fill-color);\n",
              "      border-top-color: var(--fill-color);\n",
              "    }\n",
              "    60% {\n",
              "      border-color: transparent;\n",
              "      border-right-color: var(--fill-color);\n",
              "    }\n",
              "    80% {\n",
              "      border-color: transparent;\n",
              "      border-right-color: var(--fill-color);\n",
              "      border-bottom-color: var(--fill-color);\n",
              "    }\n",
              "    90% {\n",
              "      border-color: transparent;\n",
              "      border-bottom-color: var(--fill-color);\n",
              "    }\n",
              "  }\n",
              "</style>\n",
              "\n",
              "  <script>\n",
              "    async function quickchart(key) {\n",
              "      const quickchartButtonEl =\n",
              "        document.querySelector('#' + key + ' button');\n",
              "      quickchartButtonEl.disabled = true;  // To prevent multiple clicks.\n",
              "      quickchartButtonEl.classList.add('colab-df-spinner');\n",
              "      try {\n",
              "        const charts = await google.colab.kernel.invokeFunction(\n",
              "            'suggestCharts', [key], {});\n",
              "      } catch (error) {\n",
              "        console.error('Error during call to suggestCharts:', error);\n",
              "      }\n",
              "      quickchartButtonEl.classList.remove('colab-df-spinner');\n",
              "      quickchartButtonEl.classList.add('colab-df-quickchart-complete');\n",
              "    }\n",
              "    (() => {\n",
              "      let quickchartButtonEl =\n",
              "        document.querySelector('#df-c096c59f-b551-4e93-9329-7d3be56338c4 button');\n",
              "      quickchartButtonEl.style.display =\n",
              "        google.colab.kernel.accessAllowed ? 'block' : 'none';\n",
              "    })();\n",
              "  </script>\n",
              "</div>\n",
              "    </div>\n",
              "  </div>\n"
            ]
          },
          "metadata": {},
          "execution_count": 10
        }
      ]
    },
    {
      "cell_type": "code",
      "metadata": {
        "id": "YUEnfa9nzPlF"
      },
      "source": [
        "train_df = df.sample(frac=1,random_state=0).iloc[:20000]\n",
        "test_df = df.sample(frac=1,random_state=0).iloc[20000:]"
      ],
      "execution_count": 11,
      "outputs": []
    },
    {
      "cell_type": "code",
      "metadata": {
        "colab": {
          "base_uri": "https://localhost:8080/"
        },
        "id": "OC_f8DUs3SWt",
        "outputId": "cd23971a-ff73-4c4e-c9e5-a0c829c878e7"
      },
      "source": [
        "train_df.shape"
      ],
      "execution_count": 12,
      "outputs": [
        {
          "output_type": "execute_result",
          "data": {
            "text/plain": [
              "(20000, 3)"
            ]
          },
          "metadata": {},
          "execution_count": 12
        }
      ]
    },
    {
      "cell_type": "code",
      "metadata": {
        "colab": {
          "base_uri": "https://localhost:8080/"
        },
        "id": "3VQFpZKf3UNQ",
        "outputId": "aeee2936-0059-47c7-9502-e55e88119f5d"
      },
      "source": [
        "test_df.shape"
      ],
      "execution_count": 13,
      "outputs": [
        {
          "output_type": "execute_result",
          "data": {
            "text/plain": [
              "(3708, 3)"
            ]
          },
          "metadata": {},
          "execution_count": 13
        }
      ]
    },
    {
      "cell_type": "code",
      "metadata": {
        "id": "4RZCb0_Z3WNY"
      },
      "source": [
        "# doing data augumentation\n",
        "train_datagen = ImageDataGenerator(rescale=1./255,\n",
        "                                   rotation_range=30,\n",
        "                                   width_shift_range=0.2,\n",
        "                                   height_shift_range=0.2,\n",
        "                                   shear_range=0.2,\n",
        "                                   zoom_range=0.2,\n",
        "                                   horizontal_flip=True)\n",
        "\n",
        "test_datagen = ImageDataGenerator(rescale=1./255)"
      ],
      "execution_count": 14,
      "outputs": []
    },
    {
      "cell_type": "code",
      "metadata": {
        "colab": {
          "base_uri": "https://localhost:8080/"
        },
        "id": "Q_rMCGV94BwR",
        "outputId": "d2e5ce57-61ff-42dc-d6c6-5bf928baa498"
      },
      "source": [
        "# a small change is prev y_col is a single feature now its a list\n",
        "\n",
        "train_generator = train_datagen.flow_from_dataframe(train_df,\n",
        "                                                    directory=folder_path,\n",
        "                                                    x_col='img',\n",
        "                                                    y_col=['age','gender'],\n",
        "                                                    target_size=(200,200),\n",
        "                                                    class_mode='multi_output')\n",
        "\n",
        "test_generator = test_datagen.flow_from_dataframe(test_df,\n",
        "                                                    directory=folder_path,\n",
        "                                                    x_col='img',\n",
        "                                                    y_col=['age','gender'],\n",
        "                                                    target_size=(200,200),\n",
        "                                                  class_mode='multi_output')"
      ],
      "execution_count": 15,
      "outputs": [
        {
          "output_type": "stream",
          "name": "stdout",
          "text": [
            "Found 20000 validated image filenames.\n",
            "Found 3708 validated image filenames.\n"
          ]
        }
      ]
    },
    {
      "cell_type": "code",
      "metadata": {
        "id": "yf7G1Xwg47La"
      },
      "source": [
        "# using resnet as pretrain model\n",
        "from keras.applications.resnet50 import ResNet50\n",
        "from keras.layers import *\n",
        "from keras.models import Model"
      ],
      "execution_count": 16,
      "outputs": []
    },
    {
      "cell_type": "code",
      "metadata": {
        "id": "SFaEWJCL8CNk",
        "outputId": "a16ec446-abed-4ba8-fe63-51af98660f36",
        "colab": {
          "base_uri": "https://localhost:8080/"
        }
      },
      "source": [
        "resnet = ResNet50(include_top=False, input_shape=(200,200,3))"
      ],
      "execution_count": 17,
      "outputs": [
        {
          "output_type": "stream",
          "name": "stdout",
          "text": [
            "Downloading data from https://storage.googleapis.com/tensorflow/keras-applications/resnet/resnet50_weights_tf_dim_ordering_tf_kernels_notop.h5\n",
            "94765736/94765736 [==============================] - 3s 0us/step\n"
          ]
        }
      ]
    },
    {
      "cell_type": "code",
      "metadata": {
        "id": "4AoScqH980Ek"
      },
      "source": [
        "resnet = ResNet50(include_top=False, input_shape=(200,200,3))\n",
        "\n",
        "resnet.trainable=False\n",
        "\n",
        "output = resnet.layers[-1].output\n",
        "\n",
        "flatten = Flatten()(output)\n",
        "\n",
        "dense1 = Dense(512, activation='relu')(flatten)\n",
        "dense2 = Dense(512,activation='relu')(flatten)\n",
        "\n",
        "dense3 = Dense(512,activation='relu')(dense1)\n",
        "dense4 = Dense(512,activation='relu')(dense2)\n",
        "\n",
        "output1 = Dense(1,activation='linear',name='age')(dense3)\n",
        "output2 = Dense(1,activation='sigmoid',name='gender')(dense4)"
      ],
      "execution_count": 18,
      "outputs": []
    },
    {
      "cell_type": "code",
      "metadata": {
        "id": "-g_-is64JZdW"
      },
      "source": [
        "model = Model(inputs=resnet.input,outputs=[output1,output2])"
      ],
      "execution_count": 19,
      "outputs": []
    },
    {
      "cell_type": "code",
      "metadata": {
        "id": "MgdRuWd_Jdu_"
      },
      "source": [
        "model.compile(optimizer='adam', loss={'age': 'mae', 'gender': 'binary_crossentropy'}, metrics={'age': 'mae', 'gender': 'accuracy'},loss_weights={'age':1,'gender':99})"
      ],
      "execution_count": 20,
      "outputs": []
    },
    {
      "cell_type": "code",
      "metadata": {
        "colab": {
          "base_uri": "https://localhost:8080/"
        },
        "id": "Z-K-t3f6Jgyj",
        "outputId": "2a35c9bc-6058-4317-f311-d1163e62798f"
      },
      "source": [
        "model.fit(train_generator, batch_size=32, epochs=10, validation_data=test_generator)"
      ],
      "execution_count": null,
      "outputs": [
        {
          "output_type": "stream",
          "name": "stdout",
          "text": [
            "Epoch 1/10\n",
            "625/625 [==============================] - 263s 404ms/step - loss: 103.2034 - age_loss: 15.5037 - gender_loss: 0.8859 - age_mae: 15.5037 - gender_accuracy: 0.5137 - val_loss: 83.2200 - val_age_loss: 14.6852 - val_gender_loss: 0.6923 - val_age_mae: 14.6852 - val_gender_accuracy: 0.5232\n",
            "Epoch 2/10\n",
            "625/625 [==============================] - 254s 406ms/step - loss: 83.9171 - age_loss: 15.0606 - gender_loss: 0.6955 - age_mae: 15.0606 - gender_accuracy: 0.5220 - val_loss: 82.9113 - val_age_loss: 14.4030 - val_gender_loss: 0.6920 - val_age_mae: 14.4030 - val_gender_accuracy: 0.5237\n",
            "Epoch 3/10\n",
            "625/625 [==============================] - 284s 455ms/step - loss: 83.5829 - age_loss: 15.0405 - gender_loss: 0.6923 - age_mae: 15.0405 - gender_accuracy: 0.5225 - val_loss: 83.5019 - val_age_loss: 14.9840 - val_gender_loss: 0.6921 - val_age_mae: 14.9840 - val_gender_accuracy: 0.5232\n",
            "Epoch 4/10\n",
            "625/625 [==============================] - 256s 409ms/step - loss: 83.5136 - age_loss: 14.8442 - gender_loss: 0.6936 - age_mae: 14.8442 - gender_accuracy: 0.5222 - val_loss: 82.6270 - val_age_loss: 14.1069 - val_gender_loss: 0.6921 - val_age_mae: 14.1069 - val_gender_accuracy: 0.5232\n",
            "Epoch 5/10\n",
            "625/625 [==============================] - 256s 410ms/step - loss: 83.4267 - age_loss: 14.8469 - gender_loss: 0.6927 - age_mae: 14.8469 - gender_accuracy: 0.5228 - val_loss: 82.6996 - val_age_loss: 14.1381 - val_gender_loss: 0.6925 - val_age_mae: 14.1381 - val_gender_accuracy: 0.5232\n",
            "Epoch 6/10\n",
            "625/625 [==============================] - 249s 399ms/step - loss: 84.0934 - age_loss: 14.7954 - gender_loss: 0.7000 - age_mae: 14.7954 - gender_accuracy: 0.5222 - val_loss: 82.5533 - val_age_loss: 13.9782 - val_gender_loss: 0.6927 - val_age_mae: 13.9782 - val_gender_accuracy: 0.5232\n",
            "Epoch 7/10\n",
            " 58/625 [=>............................] - ETA: 3:58 - loss: 83.4846 - age_loss: 14.8675 - gender_loss: 0.6931 - age_mae: 14.8675 - gender_accuracy: 0.5183"
          ]
        }
      ]
    },
    {
      "cell_type": "code",
      "metadata": {
        "id": "BTF0nIdjJinj"
      },
      "source": [],
      "execution_count": null,
      "outputs": []
    }
  ]
}